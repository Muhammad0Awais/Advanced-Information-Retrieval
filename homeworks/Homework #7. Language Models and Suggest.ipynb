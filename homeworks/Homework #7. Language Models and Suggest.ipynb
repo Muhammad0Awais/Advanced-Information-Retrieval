{
  "nbformat": 4,
  "nbformat_minor": 0,
  "metadata": {
    "colab": {
      "name": "LastAssignment_Language Models and Suggest.ipynb",
      "provenance": [],
      "collapsed_sections": [],
      "toc_visible": true
    },
    "kernelspec": {
      "display_name": "Python 3",
      "language": "python",
      "name": "python3"
    },
    "language_info": {
      "codemirror_mode": {
        "name": "ipython",
        "version": 3
      },
      "file_extension": ".py",
      "mimetype": "text/x-python",
      "name": "python",
      "nbconvert_exporter": "python",
      "pygments_lexer": "ipython3",
      "version": "3.8.3"
    },
    "accelerator": "GPU"
  },
  "cells": [
    {
      "cell_type": "markdown",
      "metadata": {
        "id": "tJz_3O8pzz-e"
      },
      "source": [
        "# 1. [40]Language and Topic models\n",
        "\n",
        "A common suggestion to users for coming up with good queries is to think of words that would likely appear in a relevant document, and to use those words as the query. The language modeling approach to IR directly models this idea: a document is a good match to a query if the document model is likely to generate the query, which will in turn happen if the document contains the query words often. \n",
        "\n",
        "You will score documents with respect to user query using language models and also get some experience with topic modelling.\n",
        "\n",
        "## 1.0. [5]Loading data\n",
        "\n",
        "We use the dataset we already used once - [this topic-modeling dataset](https://code.google.com/archive/p/topic-modeling-tool/downloads) ([or from github](https://github.com/IUCVLab/information-retrieval/blob/main/datasets/topic-modelling.zip))."
      ]
    },
    {
      "cell_type": "code",
      "metadata": {
        "colab": {
          "base_uri": "https://localhost:8080/"
        },
        "id": "fT5WoUEjiMhP",
        "outputId": "22e05cb4-1218-4cea-f117-1ec9fc853dbc"
      },
      "source": [
        "from google.colab import drive\n",
        "drive.mount('/content/drive')"
      ],
      "execution_count": 1,
      "outputs": [
        {
          "output_type": "stream",
          "text": [
            "Mounted at /content/drive\n"
          ],
          "name": "stdout"
        }
      ]
    },
    {
      "cell_type": "code",
      "metadata": {
        "id": "i3sKSD3Wzz-j",
        "colab": {
          "base_uri": "https://localhost:8080/"
        },
        "outputId": "2149a87b-0520-423b-ff9d-efe63862ab08"
      },
      "source": [
        "import nltk\n",
        "from nltk import word_tokenize\n",
        "\n",
        "nltk.download('punkt')\n",
        "\n",
        "# TODO: read the dataset\n",
        "\n",
        "def read_dataset(file_path):\n",
        "    docs = []\n",
        "    with open(file_path) as fp:\n",
        "        for cnt, line in enumerate(fp):\n",
        "            docs.append(word_tokenize(line))\n",
        "    return docs\n",
        "\n",
        "drivePath = \"/content/drive/MyDrive/AIR/\"\n",
        "\n",
        "fuel_data = read_dataset(drivePath + \"testdata_news_fuel_845docs.txt\")\n",
        "brain_inj_data = read_dataset(drivePath + \"testdata_braininjury_10000docs.txt\")\n",
        "economy_data = read_dataset(drivePath + \"testdata_news_economy_2073docs.txt\")\n",
        "music_data = read_dataset(drivePath + \"testdata_news_music_2084docs.txt\")\n",
        "\n",
        "all_data = []\n",
        "all_data.extend(fuel_data)\n",
        "fuelMax = len(all_data)\n",
        "all_data.extend(brain_inj_data)\n",
        "brainMax = len(all_data)\n",
        "all_data.extend(economy_data)\n",
        "economyMax = len(all_data)\n",
        "all_data.extend(music_data)\n",
        "musicMax = len(all_data)\n",
        "\n",
        "print(\"# of documents\", len(all_data))\n",
        "assert len(all_data) == 15002"
      ],
      "execution_count": 16,
      "outputs": [
        {
          "output_type": "stream",
          "text": [
            "[nltk_data] Downloading package punkt to /root/nltk_data...\n",
            "[nltk_data]   Package punkt is already up-to-date!\n",
            "# of documents 15002\n"
          ],
          "name": "stdout"
        }
      ]
    },
    {
      "cell_type": "markdown",
      "metadata": {
        "id": "jvSnHXklzz-k"
      },
      "source": [
        "## 1.1. [35]Ranking Using Language Models\n",
        "Our goal is to rank documents by $P(d|q)$, where the probability of a document is interpreted as the likelihood that it is relevant to the query. \n",
        "\n",
        "Using Bayes rule: $P(d|q) = \\frac{P(q|d)P(d)}{P(q)}$\n",
        "\n",
        "$P(q)$ is the same for all documents, and so can be ignored. The prior probability of a document $P(d)$ is often treated as uniform across all $d$'s and so it can also be ignored. What does it mean? \n",
        "\n",
        "It means that computing $P(q|d)$ for different documents we can compare how relevant are they to the query. How can we estimate $P(q|d)$?\n",
        "\n",
        "$P(q|d)$ can be estimated as:\n",
        "\n",
        "![](https://i.imgur.com/BEIMAC1.png)\n",
        "\n",
        "where $M_d$ is the language model of document $d$, $tf_{t,d}$ is the term frequency of term $t$ in document $d$, and $L_d$ is the number of tokens in document $d$. That is, we just count up how often each word occurred, and divide by the total number of words in the document $d$.\n",
        "\n",
        "### 1.1.1. [5]Build TDM (or DTM)\n",
        "\n",
        "The first thing we need to do is to build a term-document matrix for tour dataset."
      ]
    },
    {
      "cell_type": "code",
      "metadata": {
        "id": "jDjLDAIbzz-k"
      },
      "source": [
        "from collections import Counter\n",
        "# TODO: build term-document matrix for the dataset\n",
        "terms = []\n",
        "tdm = dict()\n",
        "\n",
        "for doc_id, doc in enumerate(all_data):\n",
        "    tdm[doc_id] = dict(Counter(doc))\n",
        "    terms.extend(doc)\n",
        "\n",
        "terms = list(set(terms))"
      ],
      "execution_count": 17,
      "outputs": []
    },
    {
      "cell_type": "markdown",
      "metadata": {
        "id": "8MhLirhmzz-l"
      },
      "source": [
        "### 1.1.2. [15]Smoothing\n",
        "\n",
        "Now, you need to implement the abovementioned logic in the `lm_rank_documents` function below. Do you see any potential problems?\n",
        "\n",
        "Yes, data sparsity - we don't expect to meet each term in each doc, so, in most cases, we will get zero scores, which is not what we really want.\n",
        "\n",
        "The solution is smooting.\n",
        "\n",
        "One option is *additive smoothing* - adding a small number (0 to 1) to the observed counts and renormalizing to give a probability distribution.\n",
        "\n",
        "Another option is called [Jelinek-Mercer smoothing](http://mlwiki.org/index.php/Smoothing_for_Language_Models#Jelinek-Mercer_Smoothing) - a simple idea that works well in practice is to use a mixture between a document-specific distribution and distribution estimated from the entire collection:\n",
        "\n",
        "![](https://i.imgur.com/8Qv41Wp.png)\n",
        "\n",
        "where 0 < λ < 1 and $M_c$ is a language model built from the entire document collection.\n",
        "\n",
        "Refer to [*Chapter 12*](https://nlp.stanford.edu/IR-book/html/htmledition/language-models-for-information-retrieval-1.html) for the detailed explanation.\n",
        "\n",
        "\n",
        "You are going to apply both in your `lm_rank_documents` function. This function takes TDM or DTM as an input, and ranks all documents \"building\" a language model for each document, returning relative probabilities of query being generated by a document as a document's score."
      ]
    },
    {
      "cell_type": "code",
      "metadata": {
        "id": "h7t3oEk_V1wu"
      },
      "source": [
        "words = []\n",
        "\n",
        "for ar in all_data:\n",
        "  for word in ar:\n",
        "    words.append(word)\n",
        "\n",
        "totalFreq = Counter(words)"
      ],
      "execution_count": 26,
      "outputs": []
    },
    {
      "cell_type": "code",
      "metadata": {
        "id": "pP3JnybPzz-m"
      },
      "source": [
        "import numpy as np\n",
        "\n",
        "\n",
        "def lm_rank_documents(query, tdm, terms_list, smoothing='additive', param=0.001):\n",
        "    # TODO: score each document in tdm using this document's language model\n",
        "    # implement two types of smoothing. Looks up term frequencies in tdm\n",
        "    # return document scores in a convenient form\n",
        "    # param is alpha for additive / lambda for jelinek-mercer\n",
        "    scores = []\n",
        "    # i = 0\n",
        "    scoredicts = dict()\n",
        "    for doc_id in tdm:\n",
        "        val = tdm[doc_id]\n",
        "        lendoc = len(all_data[doc_id])\n",
        "        # if i < 5:\n",
        "        for query_word in query:\n",
        "          query_freq = query[query_word]         \n",
        "          term_freq = 0\n",
        "          if doc_id not in scoredicts.keys():\n",
        "            scoredicts[doc_id] = 0\n",
        "          if query_word in val:\n",
        "            term_freq = 1\n",
        "            \n",
        "            if smoothing == \"additive\":\n",
        "              v1 = (totalFreq[query_word] * (1 - param) / len(totalFreq)) \n",
        "              v2 = ((term_freq * param) / lendoc)\n",
        "              scoredicts[doc_id] += v1 + v2\n",
        "            \n",
        "            if smoothing == \"jelinek-mercer\":\n",
        "              v1 = (lendoc + (lendoc * param))\n",
        "              v2 = (param + term_freq)\n",
        "              scoredicts[doc_id] +=  v1 + v2\n",
        "\n",
        "      # i+=1\n",
        "\n",
        "    scores = list(scoredicts.items())\n",
        "    sortedscore = sorted(scores, key = lambda x: x[1], reverse=True)\n",
        "    return sortedscore[:5]"
      ],
      "execution_count": 30,
      "outputs": []
    },
    {
      "cell_type": "markdown",
      "metadata": {
        "id": "3rXAmJ2nzz-m"
      },
      "source": [
        "### 1.1.3. [15]Testing\n",
        "\n",
        "Check if this type of ranking gives meaningful results. For each query output document `category`, `doc_id`, `score`, and the *beginning* of the document, as it is shown below. Analyze if categories and contents match the queries. "
      ]
    },
    {
      "cell_type": "code",
      "metadata": {
        "id": "bCVfYtVNzz-m",
        "colab": {
          "base_uri": "https://localhost:8080/"
        },
        "outputId": "85bd9f88-f256-48d1-8cb6-2891d97e55ad"
      },
      "source": [
        "def querycategory(id):\n",
        "  querytype = \"\" \n",
        "  if id < fuelMax:\n",
        "    querytype = \"Fuel\"\n",
        "  elif id < brainMax:\n",
        "    querytype =  \"Brain\"\n",
        "  elif id < economyMax:\n",
        "    querytype = \"Economy\"\n",
        "  elif id < musicMax:\n",
        "    querytype = \"Music\"\n",
        "  return querytype\n",
        "\n",
        "\n",
        "def process_query(raw_query):\n",
        "    # TODO: process user query and print search results including document category, id, score, and some part of it\n",
        "    rank = lm_rank_documents(Counter(raw_query.split()), tdm, terms) # , smoothing='jelinek-mercer'\n",
        "    print(\"user query:\", raw_query)\n",
        "    print(\"\\nsearch results:\")\n",
        "    for doc_id, score in rank:\n",
        "        document = all_data[doc_id]\n",
        "        topic = querycategory(doc_id)\n",
        "        print(topic, doc_id ,  score)\n",
        "        print(\" \".join(document)[:87], \"...\")\n",
        "        # print(document)\n",
        "    \n",
        "\n",
        "user_queries = [\"piano concert\", \"symptoms of head trauma\", \"wall street journal\"]\n",
        "for q in user_queries:\n",
        "    process_query(q)\n",
        "    print(\"\\n\")"
      ],
      "execution_count": 32,
      "outputs": [
        {
          "output_type": "stream",
          "text": [
            "user query: piano concert\n",
            " \n",
            "search results:\n",
            "music 13330 0.012384164490679759\n",
            "atlanta prominent midtown intersection one step closer becoming major cultural landmark the atlanta ...\n",
            "economy 11335 0.012384164490679759\n",
            "atlanta prominent midtown intersection one step closer becoming major cultural landmark the atlanta ...\n",
            "music 12926 0.011382499792705511\n",
            "felt like was going church marry guy never met said the jazz violinist regina carter the metaphorica...\n",
            "music 14390 0.010661589922122\n",
            "hailed los angeles brightest flower its flashiest ship sail its keenest architectural triumph perhap...\n",
            "music 13818 0.010549141787975117\n",
            "everything was finished sept the super bowl logo would reflection new orleans featuring streetcar an...\n",
            " \n",
            " \n",
            "user query: symptoms of head trauma\n",
            " \n",
            "search results:\n",
            "brain_injury 7319 0.06022877378376099\n",
            "the direct economic burden blunt and penetrating trauma managed care population background although ...\n",
            "brain_injury 6987 0.05854539395767944\n",
            "history reported head trauma sample women substance abuse treatment objectives determine the prevale...\n",
            "brain_injury 5257 0.05760140208255336\n",
            "violent head trauma china report cases background the occurrence violent trauma has recently increas...\n",
            "brain_injury 1536 0.055365767080148634\n",
            "mild head trauma and chronic headaches returning soldiers objective determine the incidence and type...\n",
            "brain_injury 8874 0.05379997937839304\n",
            "maxillofacial trauma major trauma patients background trauma has been identified major public health...\n",
            " \n",
            " \n",
            "user query: wall street journal\n",
            " \n",
            "search results:\n",
            "economy 11294 0.027288833622119528\n",
            "these business stories for release tuesday january are moving today clients the new york times news ...\n",
            "economy 11295 0.027288833622119528\n",
            "these business stories for release tuesday january are moving today clients the new york times news ...\n",
            "music 14641 0.026716049665405375\n",
            "these feature stories are moving today clients the new york times news service stories are for relea...\n",
            "music 14640 0.026716049665405375\n",
            "these feature stories are moving today clients the new york times news service stories are for relea...\n",
            "economy 11297 0.025763725974814314\n",
            "these feature stories are moving today clients the new york times news service stories are for relea...\n"
          ],
          "name": "stdout"
        }
      ]
    },
    {
      "cell_type": "markdown",
      "metadata": {
        "id": "Pumx6Qxtzz-n"
      },
      "source": [
        "Sample results can look like this (if collapsed, click on 3 dots):"
      ]
    },
    {
      "cell_type": "markdown",
      "metadata": {
        "id": "QXhaG-M3zz-n"
      },
      "source": [
        "```\n",
        "user query: piano concert\n",
        "\n",
        "search results:\n",
        "music 13330 0.012384164490679759\n",
        "atlanta prominent midtown intersection one step closer becoming major cultural landmark the atlanta ...\n",
        "economy 11335 0.012384164490679759\n",
        "atlanta prominent midtown intersection one step closer becoming major cultural landmark the atlanta ...\n",
        "music 12926 0.011382499792705511\n",
        "felt like was going church marry guy never met said the jazz violinist regina carter the metaphorica...\n",
        "music 14390 0.010661589922122\n",
        "hailed los angeles brightest flower its flashiest ship sail its keenest architectural triumph perhap...\n",
        "music 13818 0.010549141787975117\n",
        "everything was finished sept the super bowl logo would reflection new orleans featuring streetcar an...\n",
        "\n",
        "\n",
        "user query: symptoms of head trauma\n",
        "\n",
        "search results:\n",
        "brain_injury 7319 0.06022877378376099\n",
        "the direct economic burden blunt and penetrating trauma managed care population background although ...\n",
        "brain_injury 6987 0.05854539395767944\n",
        "history reported head trauma sample women substance abuse treatment objectives determine the prevale...\n",
        "brain_injury 5257 0.05760140208255336\n",
        "violent head trauma china report cases background the occurrence violent trauma has recently increas...\n",
        "brain_injury 1536 0.055365767080148634\n",
        "mild head trauma and chronic headaches returning soldiers objective determine the incidence and type...\n",
        "brain_injury 8874 0.05379997937839304\n",
        "maxillofacial trauma major trauma patients background trauma has been identified major public health...\n",
        "\n",
        "\n",
        "user query: wall street journal\n",
        "\n",
        "search results:\n",
        "economy 11294 0.027288833622119528\n",
        "these business stories for release tuesday january are moving today clients the new york times news ...\n",
        "economy 11295 0.027288833622119528\n",
        "these business stories for release tuesday january are moving today clients the new york times news ...\n",
        "music 14641 0.026716049665405375\n",
        "these feature stories are moving today clients the new york times news service stories are for relea...\n",
        "music 14640 0.026716049665405375\n",
        "these feature stories are moving today clients the new york times news service stories are for relea...\n",
        "economy 11297 0.025763725974814314\n",
        "these feature stories are moving today clients the new york times news service stories are for relea...\n",
        "```"
      ]
    },
    {
      "cell_type": "markdown",
      "metadata": {
        "id": "l-VbhrIAzz-o"
      },
      "source": [
        "## 1.2. [+10/100] Bonus - topic modeling\n",
        "\n",
        "Now let's use *Latent Dirichlet Allocation* to identify topics in this collection and check if they match the original topics (fuel, economy, etc.). Go through the tutorial [here](https://towardsdatascience.com/end-to-end-topic-modeling-in-python-latent-dirichlet-allocation-lda-35ce4ed6b3e0) and apply the ideas there to our dataset. "
      ]
    },
    {
      "cell_type": "code",
      "metadata": {
        "id": "3rXeEz-Fzz-o",
        "colab": {
          "base_uri": "https://localhost:8080/"
        },
        "outputId": "5948be46-c772-44ca-8f9e-b3bd323dd3b6"
      },
      "source": [
        "# TODO: apply LDA to our dataset and output the resulting categories \n",
        "from sklearn.decomposition import LatentDirichletAllocation as LDA\n",
        "from sklearn.feature_extraction.text import CountVectorizer\n",
        "\n",
        "bigList = list()\n",
        "for id, doc in enumerate(all_data):\n",
        "  # if id < 5:\n",
        "    converted = \" \".join(doc)\n",
        "    bigList.append(converted)\n",
        "\n",
        "# print(bigList)\n",
        "\n",
        "count_vectorizer = CountVectorizer()\n",
        "count_data = count_vectorizer.fit_transform(bigList)\n",
        "\n",
        "def topics(model, vectorizer, n=10):\n",
        "    names = vectorizer.get_feature_names()\n",
        "    id = 0\n",
        "    for topic in model.components_[:4]:\n",
        "        topics = \"\"\n",
        "        le = n + 5\n",
        "        arr = topic.argsort()\n",
        "        for j in arr[: -le :-1]:\n",
        "          topics += names[j] + \" \"\n",
        "        print(\"Topic #\"+ str(id)+ \":\")\n",
        "        print(topics[:87], \"...\\n\")\n",
        "        id += 1\n",
        "\n",
        "# LDA model\n",
        "lda = LDA(n_components=4, n_jobs=-1)\n",
        "lda.fit(count_data)\n",
        "\n",
        "topics(lda, count_vectorizer)"
      ],
      "execution_count": null,
      "outputs": [
        {
          "output_type": "stream",
          "text": [
            "Topic #0:\n",
            "the and that for with was said are have but from has new this  ...\n",
            "\n",
            "Topic #1:\n",
            "the and for with that are was patients from were injury who said new  ...\n",
            "\n",
            "Topic #2:\n",
            "the and that for with was his from this were they new are said  ...\n",
            "\n",
            "Topic #3:\n",
            "the and with for was patients from were that are but this not his  ...\n",
            "\n"
          ],
          "name": "stdout"
        }
      ]
    },
    {
      "cell_type": "markdown",
      "metadata": {
        "id": "1Z2n1WtPzz-o"
      },
      "source": [
        "We expect to see something like this (if collapsed, click on 3 dots):"
      ]
    },
    {
      "cell_type": "markdown",
      "metadata": {
        "id": "PSJA3csJzz-p"
      },
      "source": [
        "```\n",
        "Topic #0:\n",
        "brain injury patients tbi traumatic study cerebral results severe group cognitive clinical pressure imaging following outcome control using children test\n",
        "\n",
        "Topic #1:\n",
        "new said york news atlanta like times year service time people undated just music journal constitution city says com years\n",
        "\n",
        "Topic #2:\n",
        "patients injury injuries trauma head study results traumatic brain treatment cases patient fractures years case outcome methods clinical tbi surgery\n",
        "\n",
        "Topic #3:\n",
        "said year bush percent new enron company president government people economy years million state companies states economic united time billion\n",
        "```"
      ]
    },
    {
      "cell_type": "markdown",
      "metadata": {
        "id": "Ze1uPOZpzz-p"
      },
      "source": [
        "# 2. [60] Sugges_\n",
        "\n",
        "One of the strategies to improve user experience is to provide user with hints, or, otherwise, to autocomplete his queries. Let's consider suggest.\n",
        "\n",
        "Today we will practice generating suggestions using [Trie](https://en.wikipedia.org/wiki/Trie) datastructure (prefix tree), see the example below.\n",
        "\n",
        "Plan of your homework:\n",
        "\n",
        "1. Build Trie based on real search query data, provided by AOL company;\n",
        "2. Generate suggestion based on trie;\n",
        "3. Measure suggestion speed;\n",
        "4. (+) Optionally add spellcheck to suggest.\n",
        "\n",
        "\n",
        "![image](https://www.ritambhara.in/wp-content/uploads/2017/05/Screen-Shot-2017-05-01-at-4.01.38-PM.png)\n",
        "\n",
        "## 2.0. Install Trie data structure support\n",
        "\n",
        "You are free to use any library implementation of Trie, as well as the one we suggest (read the docs before asking any questions!): https://github.com/google/pygtrie"
      ]
    },
    {
      "cell_type": "code",
      "metadata": {
        "colab": {
          "base_uri": "https://localhost:8080/"
        },
        "id": "Hm0LBbiBzz-q",
        "outputId": "b2a5372b-0f54-46bc-eed2-a5c1c29db382"
      },
      "source": [
        "!pip install pygtrie"
      ],
      "execution_count": 10,
      "outputs": [
        {
          "output_type": "stream",
          "text": [
            "Collecting pygtrie\n",
            "  Downloading https://files.pythonhosted.org/packages/a5/8b/90d0f21a27a354e808a73eb0ffb94db990ab11ad1d8b3db3e5196c882cad/pygtrie-2.4.2.tar.gz\n",
            "Building wheels for collected packages: pygtrie\n",
            "  Building wheel for pygtrie (setup.py) ... \u001b[?25l\u001b[?25hdone\n",
            "  Created wheel for pygtrie: filename=pygtrie-2.4.2-cp37-none-any.whl size=19063 sha256=f88dc748c23a29c3599c48f0a174e04bf2df64c2ba7fbf144997d07e00ea4681\n",
            "  Stored in directory: /root/.cache/pip/wheels/db/57/91/73782136379fe419036c5ec0e4070d8b3a35f2a36bd6a94ed8\n",
            "Successfully built pygtrie\n",
            "Installing collected packages: pygtrie\n",
            "Successfully installed pygtrie-2.4.2\n"
          ],
          "name": "stdout"
        }
      ]
    },
    {
      "cell_type": "markdown",
      "metadata": {
        "id": "na0Pgf0nzz-q"
      },
      "source": [
        "### 2.0.1. Check it works and understand the example"
      ]
    },
    {
      "cell_type": "code",
      "metadata": {
        "colab": {
          "base_uri": "https://localhost:8080/"
        },
        "id": "Ty0UkieCzz-q",
        "outputId": "b9a2794f-f99a-4ca0-89bf-277cdcf45d03"
      },
      "source": [
        "import pygtrie\n",
        "t = pygtrie.CharTrie()\n",
        "\n",
        "# trie can be considered as a form of organizing a set of map\n",
        "t[\"this is 1\"] = \"A\"\n",
        "t[\"this is 2\"] = \"B\"\n",
        "t[\"that is 3\"] = \"C\"\n",
        "\n",
        "print(t)\n",
        "\n",
        "# \"this\" string is present in a set\n",
        "n = t.has_node('this') == pygtrie.Trie.HAS_VALUE\n",
        "# \"this\" prefix is present in a set\n",
        "s = t.has_node('this') == pygtrie.Trie.HAS_SUBTRIE\n",
        "\n",
        "print(f\"Node = {n}\\nSubtree = {s}\")\n",
        "\n",
        "# iterate a subtree\n",
        "for key, val in t.iteritems(\"this\"):\n",
        "    print(key, '~', val)"
      ],
      "execution_count": 2,
      "outputs": [
        {
          "output_type": "stream",
          "text": [
            "CharTrie(this is 1: A, this is 2: B, that is 3: C)\n",
            "Node = False\n",
            "Subtree = True\n",
            "this is 1 ~ A\n",
            "this is 2 ~ B\n"
          ],
          "name": "stdout"
        }
      ]
    },
    {
      "cell_type": "markdown",
      "metadata": {
        "id": "cZjOs-NHzz-s"
      },
      "source": [
        "## 2.1. Build a trie upon a dataset\n",
        "\n",
        "### 2.1.1. [5] Read dataset\n",
        "\n",
        "Download the [dataset](https://github.com/IUCVLab/information-retrieval/tree/main/datasets/aol) (we provide only the first part of the original data for simplicity (~3.5 mln queries)).\n",
        "\n",
        "Explore the data, see readme file. Load the dataset."
      ]
    },
    {
      "cell_type": "code",
      "metadata": {
        "id": "v8TdXqZ0zz-s"
      },
      "source": [
        "import pandas as pd\n",
        "\n",
        "aol_data = None\n",
        "\n",
        "#TODO: Read the dataset, e.g. as pandas dataframe\n",
        "drivePath = \"/content/drive/MyDrive/AIR/\"\n",
        "filename = \"user-ct-test-collection-01.txt\"\n",
        "\n",
        "aol_data = pd.read_csv(drivePath + filename, delimiter = \"\\t\", error_bad_lines=False)\n",
        "\n",
        "aol_data = aol_data.fillna(0)\n",
        "\n",
        "assert aol_data.shape[0] == 3558411, \"Dataset size doesnt' match\""
      ],
      "execution_count": 3,
      "outputs": []
    },
    {
      "cell_type": "code",
      "metadata": {
        "id": "pdwFMVApGUaP"
      },
      "source": [
        "stopWords = ['a', 'an', 'and', 'are', 'as', 'at', 'be', 'by', 'for', 'from', 'has', 'he', 'in', 'is', 'it', 'its', 'of', 'on', 'that', 'the', 'to', 'was', 'were', 'will', 'with']"
      ],
      "execution_count": 4,
      "outputs": []
    },
    {
      "cell_type": "markdown",
      "metadata": {
        "id": "_LB7pqXpzz-s"
      },
      "source": [
        "### 2.1.2. [20] Build Trie\n",
        "\n",
        "We want suggest function to be **non-sensitive to stop words** because we don't want to upset the user if he confuses/omits prepositions, for example. Consider *\"public events in Innopolis\"* vs *\"public events at Innopolis\"* or *\"public events Innopolis\"* - they all mean the same.\n",
        "\n",
        "Build Trie based on the dataset, **storing query statistics such as query frequency, urls and ranks in nodes**. Some queries may not have associated urls, others may have multiple ranked urls. Think of the way to store this information."
      ]
    },
    {
      "cell_type": "code",
      "metadata": {
        "id": "PhbmO9guzz-t",
        "colab": {
          "base_uri": "https://localhost:8080/"
        },
        "outputId": "a1b30073-1c06-4570-9616-1a1616ad5866"
      },
      "source": [
        "# aol_trie = pygtrie.CharTrie()\n",
        "#TODO: build trie based on dataset\n",
        "# Data = {AnonID, Query, QueryTime, ItemRank, ClickURL}\n",
        "\n",
        "def createIndex(aol_data):\n",
        "  aol_trie = pygtrie.CharTrie()\n",
        "  for idx in range(len(aol_data)):\n",
        "    nitem = aol_data['Query'][idx]\n",
        "    queryCheck = 0\n",
        "    if type(nitem) == str:\n",
        "      if len(nitem) > 0:\n",
        "         queryCheck = 1\n",
        "\n",
        "    url = aol_data['ClickURL'][idx]\n",
        "    urrl = 1\n",
        "    if type(url) == str:\n",
        "      if len(url) > 0:\n",
        "         urrl = (url, 1)\n",
        "    \n",
        "    if queryCheck != 0:\n",
        "      if aol_trie.has_node(nitem) == 1:\n",
        "        index = aol_trie[nitem]\n",
        "        index[0] += 1\n",
        "        if urrl not in index:\n",
        "          index.append(urrl)\n",
        "        aol_trie[nitem] = index\n",
        "      else:\n",
        "        if urrl != 1:\n",
        "          aol_trie[nitem] = [1 , urrl]\n",
        "        else:\n",
        "          aol_trie[nitem] = [1]\n",
        "  return aol_trie\n",
        "\n",
        "aol_trie = createIndex(aol_data)\n",
        "\n",
        "# test trie\n",
        "bag = []\n",
        "for key, val in aol_trie.iteritems(\"sample q\"):\n",
        "    print(key, '~', val)\n",
        "    \n",
        "    #NB: here we assume you store urls in a list field. But you can do something different. \n",
        "    for url in val:\n",
        "      if isinstance(url, tuple):\n",
        "        urll = url[0]\n",
        "        bag.append(urll)\n",
        "    \n",
        "    assert \"sample question\" in key, \"All examples have `sample question` substring\"\n",
        "    assert key[:len(\"sample question\")] == \"sample question\", \"All examples have `sample question` starting string\"\n",
        "\n",
        "for url in [\"http://www.surveyconnect.com\", \"http://www.custominsight.com\", \n",
        "            \"http://jobsearchtech.about.com\", \"http://www.troy.k12.ny.us\",\n",
        "            \"http://www.flinders.edu.au\", \"http://uscis.gov\"]:\n",
        "    assert url in bag, \"This url should be in a try\""
      ],
      "execution_count": 5,
      "outputs": [
        {
          "output_type": "stream",
          "text": [
            "sample question surveys ~ [5, ('http://www.surveyconnect.com', 1), ('http://www.custominsight.com', 1), ('http://www.askemployees.com', 1), ('http://www.lg-employers.gov.uk', 1), 1]\n",
            "sample questions for immigration interview ~ [1]\n",
            "sample questions for interview ~ [1, ('http://www.quintcareers.com', 1)]\n",
            "sample questions for family interview ~ [3, ('http://www.grandparents-day.com', 1), ('http://www.quintcareers.com', 1), ('http://jobsearchtech.about.com', 1)]\n",
            "sample questions for us citizenship test ~ [1, ('http://uscis.gov', 1)]\n",
            "sample questions sociology race and ethnicity ~ [1]\n",
            "sample questions biology ~ [2, ('http://www.utexas.edu', 1), ('http://www.troy.k12.ny.us', 1)]\n",
            "sample questionarie teaching evaluation ~ [1]\n",
            "sample questionnaire teaching evaluation ~ [5, ('http://www.surveyconsole.com', 1), ('http://www.usask.ca', 1), ('http://teaching.berkeley.edu', 1), ('http://www.flinders.edu.au', 1), ('http://oregonstate.edu', 1)]\n",
            "sample questionnaire for clinical research coordinators certification ~ [1, ('http://www.pharmatech.com', 1)]\n"
          ],
          "name": "stdout"
        }
      ]
    },
    {
      "cell_type": "markdown",
      "metadata": {
        "id": "oQMIO9wozz-t"
      },
      "source": [
        "## 2.3. [20] Write a suggest function which is non-sensitive to stop words\n",
        "\n",
        "Suggest options for user query based on Trie you just built.\n",
        "Output results sorted by frequency, print query count for each suggestion. If there is an url available, print the url too. If multiple url-s are available, print the one with the highest rank (the less the better).\n",
        "\n",
        "Q: What is the empirical threshold for minimal prefix for suggest?"
      ]
    },
    {
      "cell_type": "code",
      "metadata": {
        "id": "QCV7tJGFzz-t",
        "colab": {
          "base_uri": "https://localhost:8080/"
        },
        "outputId": "51b76f66-fc9d-4048-d3be-ffd83fe85f40"
      },
      "source": [
        "def complete_user_query(query, trie, top_k=5):\n",
        "    #TODO: suggest top_k options for a user query\n",
        "    # sort results by frequency, suggest first ranked urls if available\n",
        "    newQuery = \"\"\n",
        "    res = []\n",
        "    for word in query.split():\n",
        "      if word not in stopWords:\n",
        "         newQuery += word\n",
        "    \n",
        "    # iterate a subtree\n",
        "    try:  \n",
        "      for key, val in trie.iteritems(newQuery):\n",
        "          res.append((val[0], key))\n",
        "        \n",
        "      res.sort(key=lambda val: val[0], reverse=True)\n",
        "      \n",
        "      newres = []\n",
        "      for r in res:\n",
        "        newres.append(r[1])\n",
        "\n",
        "      return newres[:top_k]\n",
        "    except:\n",
        "      pass\n",
        "\n",
        "        \n",
        "inp = \"trie\"\n",
        "print(\"Query:\", inp)\n",
        "# print(\"Results:\")\n",
        "res = complete_user_query(inp, aol_trie)\n",
        "print(\"Results:\", res)\n",
        "# #NB we assume you return suggested query string only\n",
        "assert res[0] == \"tried and true tattoo\"\n",
        "assert res[1] == \"triest\" or res[1] == \"triethanalomine\""
      ],
      "execution_count": 6,
      "outputs": [
        {
          "output_type": "stream",
          "text": [
            "Query: trie\n",
            "Results: ['tried and true tattoo', 'triest', 'triethanalomine', 'tried and failed', \"tried and truechildren's consignment sale\"]\n"
          ],
          "name": "stdout"
        }
      ]
    },
    {
      "cell_type": "markdown",
      "metadata": {
        "id": "HH7Mhh3tzz-t"
      },
      "source": [
        "## 2.4. [15] Measure suggest speed ##\n",
        "\n",
        "Check how fast your search is working. Consider changing your code if it takes too long on average."
      ]
    },
    {
      "cell_type": "code",
      "metadata": {
        "id": "pT_CQia_zz-t",
        "colab": {
          "base_uri": "https://localhost:8080/"
        },
        "outputId": "32ed1fa2-27bc-4866-9ee3-6ee2120e44f2"
      },
      "source": [
        "inp_queries = [\"inf\", \"the best \", \"information retrieval\", \"sherlock hol\", \"carnegie mell\", \n",
        "               \"babies r\", \"new york\", \"googol\", \"inter\", \"USA sta\", \"Barbara \"]\n",
        "\n",
        "#TODO: measure avg execution time (in milliseconds) per query and print it out\n",
        "import time\n",
        "totalTime = 0\n",
        "for query in inp_queries:\n",
        "  tic1 = time.process_time()\n",
        "  try:\n",
        "    res = complete_user_query(query, aol_trie, 1)\n",
        "    tic2 = time.process_time()\n",
        "    timediff = tic2-tic1\n",
        "    totalTime += timediff\n",
        "  except:\n",
        "    pass\n",
        "print(\"Time taken for %d queries: \"%len(inp_queries), totalTime,\"\\n\",(totalTime/len(inp_queries))*1000, \"microseconds/query\")"
      ],
      "execution_count": 7,
      "outputs": [
        {
          "output_type": "stream",
          "text": [
            "Time taken for 11 queries:  0.10319116299996267 \n",
            " 9.381014818178425 microseconds/query\n"
          ],
          "name": "stdout"
        }
      ]
    },
    {
      "cell_type": "markdown",
      "metadata": {
        "id": "Y3KosPUEzz-t"
      },
      "source": [
        "## 2.5. [+10/100] Bonus task - add spellchecking to your suggest\n",
        "\n",
        "Try to make your search results as close as possible. Compare top-5 results of each query with top-5 results for corrected."
      ]
    },
    {
      "cell_type": "code",
      "metadata": {
        "colab": {
          "base_uri": "https://localhost:8080/"
        },
        "id": "X0bOGBrd33kX",
        "outputId": "cce76e10-578d-449d-a4c5-16253644215f"
      },
      "source": [
        "!pip install pyspellchecker "
      ],
      "execution_count": 14,
      "outputs": [
        {
          "output_type": "stream",
          "text": [
            "Collecting pyspellchecker\n",
            "\u001b[?25l  Downloading https://files.pythonhosted.org/packages/0d/ff/ce7907f2be4d0660513451f56456721edb27e04fbb6a319a52efdd80a4d2/pyspellchecker-0.6.0-py3-none-any.whl (2.5MB)\n",
            "\u001b[K     |████████████████████████████████| 2.5MB 6.3MB/s \n",
            "\u001b[?25hInstalling collected packages: pyspellchecker\n",
            "Successfully installed pyspellchecker-0.6.0\n"
          ],
          "name": "stdout"
        }
      ]
    },
    {
      "cell_type": "code",
      "metadata": {
        "id": "SE1PtUq0zz-u"
      },
      "source": [
        "from spellchecker import SpellChecker\n",
        "inp_queries = [\"inormation retrieval\", \"shelrock hol\", \"carnagie mell\", \"babis r\", \"Barrbara \"]\n",
        "inp_queries_corrected = [\"information retrieval\", \"sherlock hol\", \"carnegie mell\", \"babies r\", \"Barbara \"]\n",
        "\n",
        "\n",
        "def complete_user_query_with_spellchecker(query, trie, top_k=5):\n",
        "    #TODO: suggest top_k options for a user query\n",
        "    # sort results by frequency, suggest first ranked urls if available\n",
        "    spell = SpellChecker(language='en')\n",
        "    bq = []\n",
        "\n",
        "    nquery = query.split()\n",
        "    for v in nquery:\n",
        "      if len(v)>1:\n",
        "        bq.append(v)\n",
        "\n",
        "    correctedQueries = []\n",
        "\n",
        "    misspelled = spell.unknown(bq)\n",
        "    \n",
        "    for m in misspelled:\n",
        "      replacement = spell.correction(m)\n",
        "      correctedQueries.append(query.replace(m, replacement))\n",
        "    res = query\n",
        "    for cor in correctedQueries:   \n",
        "      res = complete_user_query(cor, aol_trie)\n",
        "    return res\n",
        "\n",
        "trie = aol_trie\n",
        "for q, qc in zip(inp_queries, inp_queries_corrected):\n",
        "    assert  complete_user_query(qc, trie, 5) == \\\n",
        "            complete_user_query_with_spellchecker(q, trie, 5), \"Assert {} and {} give different results\".format(q, qc)"
      ],
      "execution_count": 14,
      "outputs": []
    }
  ]
}